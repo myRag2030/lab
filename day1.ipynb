{
 "cells": [
  {
   "cell_type": "markdown",
   "id": "291d658c-883a-4601-9cca-439291806d20",
   "metadata": {},
   "source": [
    "# Variables and data Types "
   ]
  },
  {
   "cell_type": "code",
   "execution_count": 2,
   "id": "0121b180-5c9a-4ddd-9df2-d88601434178",
   "metadata": {},
   "outputs": [
    {
     "data": {
      "text/plain": [
       "int"
      ]
     },
     "execution_count": 2,
     "metadata": {},
     "output_type": "execute_result"
    }
   ],
   "source": [
    "x=5\n",
    "type(x)"
   ]
  },
  {
   "cell_type": "code",
   "execution_count": 4,
   "id": "582c7dc8-31fc-4b45-9d14-a024c871b992",
   "metadata": {},
   "outputs": [
    {
     "data": {
      "text/plain": [
       "float"
      ]
     },
     "execution_count": 4,
     "metadata": {},
     "output_type": "execute_result"
    }
   ],
   "source": [
    "y=3.1\n",
    "type(y)\n"
   ]
  },
  {
   "cell_type": "code",
   "execution_count": 6,
   "id": "d80943f2-91ad-491f-b22b-d28a36d2d1f4",
   "metadata": {},
   "outputs": [
    {
     "data": {
      "text/plain": [
       "str"
      ]
     },
     "execution_count": 6,
     "metadata": {},
     "output_type": "execute_result"
    }
   ],
   "source": [
    "name=\"raghad\"\n",
    "type(name)"
   ]
  },
  {
   "cell_type": "code",
   "execution_count": 8,
   "id": "2a6ef413-f36e-4f36-95e9-6be38cf11d77",
   "metadata": {
    "scrolled": true
   },
   "outputs": [
    {
     "data": {
      "text/plain": [
       "bool"
      ]
     },
     "execution_count": 8,
     "metadata": {},
     "output_type": "execute_result"
    }
   ],
   "source": [
    "is_active=True\n",
    "type(is_active)"
   ]
  },
  {
   "cell_type": "markdown",
   "id": "a7ff186e-0c1b-4b00-a71e-a87ebf0f5dcd",
   "metadata": {},
   "source": [
    "# Arithmetic and Logical Operations"
   ]
  },
  {
   "cell_type": "code",
   "execution_count": 13,
   "id": "4fa7cedf-3008-4975-9f71-be97e3d78397",
   "metadata": {},
   "outputs": [
    {
     "name": "stdout",
     "output_type": "stream",
     "text": [
      "a + b = 20\n"
     ]
    }
   ],
   "source": [
    "a=10\n",
    "b=10\n",
    "s=a+b\n",
    "print(\"a + b = \"+str(s))"
   ]
  },
  {
   "cell_type": "code",
   "execution_count": 15,
   "id": "e87b162f-e3b3-40cc-881b-7dd6553d62a9",
   "metadata": {},
   "outputs": [
    {
     "name": "stdout",
     "output_type": "stream",
     "text": [
      " a + b = 20\n"
     ]
    }
   ],
   "source": [
    "print(f\" a + b = {s}\")"
   ]
  },
  {
   "cell_type": "code",
   "execution_count": 17,
   "id": "d57f35c0-dce8-47b5-ac6c-d2fc893e5202",
   "metadata": {},
   "outputs": [
    {
     "data": {
      "text/plain": [
       "True"
      ]
     },
     "execution_count": 17,
     "metadata": {},
     "output_type": "execute_result"
    }
   ],
   "source": [
    "x=30\n",
    "d=10\n",
    "x>d"
   ]
  },
  {
   "cell_type": "code",
   "execution_count": 19,
   "id": "7f322671-d9d4-4444-975f-4f9149394c1e",
   "metadata": {},
   "outputs": [
    {
     "data": {
      "text/plain": [
       "True"
      ]
     },
     "execution_count": 19,
     "metadata": {},
     "output_type": "execute_result"
    }
   ],
   "source": [
    "a=30\n",
    "b=10\n",
    "(a>b)and(10>=9)"
   ]
  },
  {
   "cell_type": "code",
   "execution_count": 21,
   "id": "f1c3d8fa-2666-4e89-9fae-b7891add3f66",
   "metadata": {},
   "outputs": [
    {
     "data": {
      "text/plain": [
       "False"
      ]
     },
     "execution_count": 21,
     "metadata": {},
     "output_type": "execute_result"
    }
   ],
   "source": [
    "x=5\n",
    "y=5\n",
    "x>y"
   ]
  },
  {
   "cell_type": "code",
   "execution_count": 23,
   "id": "6011fa90-d153-44fc-98f6-15783028ffcf",
   "metadata": {},
   "outputs": [
    {
     "data": {
      "text/plain": [
       "True"
      ]
     },
     "execution_count": 23,
     "metadata": {},
     "output_type": "execute_result"
    }
   ],
   "source": [
    "x=5\n",
    "y=6\n",
    "(y>x)or(2>x)"
   ]
  },
  {
   "cell_type": "markdown",
   "id": "d785f870-dacd-4f7a-adc7-15e99783c0a2",
   "metadata": {},
   "source": [
    "# Conditional Statements (if, elif, else)"
   ]
  },
  {
   "cell_type": "code",
   "execution_count": 28,
   "id": "641c8fd0-ffe6-47dc-a166-e7e9df32b832",
   "metadata": {},
   "outputs": [
    {
     "name": "stdout",
     "output_type": "stream",
     "text": [
      "x is greater than 5\n"
     ]
    }
   ],
   "source": [
    "x=10\n",
    "if x>5:\n",
    "    print(\"x is greater than 5\")"
   ]
  },
  {
   "cell_type": "code",
   "execution_count": 30,
   "id": "a135a706-d7a5-4e41-9246-abdc83be523d",
   "metadata": {},
   "outputs": [
    {
     "name": "stdout",
     "output_type": "stream",
     "text": [
      "x is less than 5\n"
     ]
    }
   ],
   "source": [
    "x=4\n",
    "if x>5:\n",
    "    print(\"x is greater than 5\")\n",
    "else :\n",
    "    print(\"x is less than 5\")"
   ]
  },
  {
   "cell_type": "code",
   "execution_count": 32,
   "id": "62c27910-d0b6-4d85-a980-e69e51bc033d",
   "metadata": {},
   "outputs": [
    {
     "name": "stdout",
     "output_type": "stream",
     "text": [
      "x is less than 10\n"
     ]
    }
   ],
   "source": [
    "x=9\n",
    "if x<5:\n",
    "    print(\"x is less than 5\")\n",
    "elif x>10:\n",
    "    print(\"x is greater than 10\")\n",
    "else :\n",
    "    print(\"x is less than 10\")"
   ]
  },
  {
   "cell_type": "code",
   "execution_count": 34,
   "id": "d6825028-86ce-4a21-a402-354123c27ea9",
   "metadata": {},
   "outputs": [
    {
     "name": "stdout",
     "output_type": "stream",
     "text": [
      "The condition is true\n"
     ]
    }
   ],
   "source": [
    "x=5\n",
    "if (x>2)and(x>=5):\n",
    "     print (\"The condition is true\")\n",
    "else :\n",
    "     print (\"The condition is false\")\n",
    "   \n"
   ]
  },
  {
   "cell_type": "code",
   "execution_count": 36,
   "id": "a0ebd0ed-cd0a-4e84-ba64-2b76bb5e0769",
   "metadata": {},
   "outputs": [
    {
     "name": "stdout",
     "output_type": "stream",
     "text": [
      "try again\n"
     ]
    }
   ],
   "source": [
    "x=10\n",
    "if (x>2)and(x<=5):\n",
    "     print (\"The condition is false\")\n",
    "elif (x>2)and(x>=20):\n",
    "     print (\"The condition is false\")\n",
    "else :\n",
    "    print(\"try again\")\n",
    "\n"
   ]
  },
  {
   "cell_type": "markdown",
   "id": "b1a73cd5-63d1-4625-bbb4-b16656d89c26",
   "metadata": {},
   "source": [
    "# Loops ( for and While)"
   ]
  },
  {
   "cell_type": "code",
   "execution_count": 39,
   "id": "c46fc3aa-9f03-4bf2-877f-74208732f406",
   "metadata": {},
   "outputs": [
    {
     "name": "stdout",
     "output_type": "stream",
     "text": [
      "0\n",
      "1\n",
      "2\n",
      "3\n",
      "4\n"
     ]
    }
   ],
   "source": [
    "for i in range(5):\n",
    "    print(i)"
   ]
  },
  {
   "cell_type": "code",
   "execution_count": 41,
   "id": "941c73fa-0a17-42d2-807f-4d7caea5fd5e",
   "metadata": {},
   "outputs": [
    {
     "name": "stdout",
     "output_type": "stream",
     "text": [
      "1\n",
      "2\n",
      "3\n",
      "4\n",
      "5\n",
      "6\n",
      "7\n",
      "8\n",
      "9\n",
      "10\n"
     ]
    }
   ],
   "source": [
    "for i in range(1,11):\n",
    "    print(i)"
   ]
  },
  {
   "cell_type": "code",
   "execution_count": 43,
   "id": "f0869afb-1d0b-49a2-a2a4-3540400c8fe3",
   "metadata": {},
   "outputs": [
    {
     "name": "stdout",
     "output_type": "stream",
     "text": [
      "0\n",
      "1\n",
      "2\n",
      "3\n",
      "4\n"
     ]
    }
   ],
   "source": [
    "count =0\n",
    "while count<5:\n",
    "    print(count)\n",
    "    count+=1"
   ]
  },
  {
   "cell_type": "code",
   "execution_count": 45,
   "id": "c12558eb-9388-4e4c-a6fa-528f7cd2b3cd",
   "metadata": {},
   "outputs": [
    {
     "name": "stdout",
     "output_type": "stream",
     "text": [
      "2\n",
      "4\n",
      "6\n",
      "8\n",
      "10\n",
      "12\n",
      "14\n",
      "16\n",
      "18\n",
      "20\n",
      "22\n",
      "24\n",
      "26\n",
      "28\n",
      "30\n",
      "32\n",
      "34\n",
      "36\n",
      "38\n",
      "40\n",
      "42\n",
      "44\n",
      "46\n",
      "48\n"
     ]
    }
   ],
   "source": [
    "for i in range(1,50):\n",
    "    if i%2==0:\n",
    "        print(i)"
   ]
  },
  {
   "cell_type": "markdown",
   "id": "835e2d58-81c1-421c-8384-dad03ab76464",
   "metadata": {},
   "source": [
    "# Functions in Python"
   ]
  },
  {
   "cell_type": "code",
   "execution_count": 46,
   "id": "f73aae03-8ba8-473a-bd32-6d067f17b809",
   "metadata": {},
   "outputs": [],
   "source": [
    "def fun1(fname , lname):\n",
    "    print (f\"{fname} {lname}\")\n",
    "    \n",
    "    "
   ]
  },
  {
   "cell_type": "code",
   "execution_count": 48,
   "id": "e1186844-1335-44a9-9919-aed644fb8ee3",
   "metadata": {},
   "outputs": [
    {
     "name": "stdout",
     "output_type": "stream",
     "text": [
      "Raghad Abdulrahman\n"
     ]
    }
   ],
   "source": [
    "fun1(\"Raghad\",\"Abdulrahman\")"
   ]
  },
  {
   "cell_type": "code",
   "execution_count": 54,
   "id": "fdf0bede-a9d5-49b7-ac9c-53c0946bc43e",
   "metadata": {},
   "outputs": [
    {
     "name": "stdin",
     "output_type": "stream",
     "text": [
      "Enter your name raghad\n"
     ]
    }
   ],
   "source": [
    "name = input (\"Enter your name\")"
   ]
  },
  {
   "cell_type": "code",
   "execution_count": 56,
   "id": "13e95ec5-d8ce-4be6-bc6f-1b08eba5bf4b",
   "metadata": {},
   "outputs": [
    {
     "data": {
      "text/plain": [
       "str"
      ]
     },
     "execution_count": 56,
     "metadata": {},
     "output_type": "execute_result"
    }
   ],
   "source": [
    "type(name)"
   ]
  },
  {
   "cell_type": "code",
   "execution_count": 60,
   "id": "687b4d11-d05a-4dc0-8ef8-d8b5c8fc294e",
   "metadata": {},
   "outputs": [
    {
     "name": "stdin",
     "output_type": "stream",
     "text": [
      "Enter number 1 :  2\n"
     ]
    }
   ],
   "source": [
    "num1= int(input(\"Enter number 1 : \"))"
   ]
  },
  {
   "cell_type": "code",
   "execution_count": 62,
   "id": "79a8f8f8-3689-47d1-9f5a-3e5a14ebb501",
   "metadata": {},
   "outputs": [
    {
     "data": {
      "text/plain": [
       "int"
      ]
     },
     "execution_count": 62,
     "metadata": {},
     "output_type": "execute_result"
    }
   ],
   "source": [
    "type(num1)"
   ]
  },
  {
   "cell_type": "markdown",
   "id": "f4d5bade-a730-4c28-bb13-6b285dd7a2fc",
   "metadata": {},
   "source": [
    "#  multiplication tables"
   ]
  },
  {
   "cell_type": "code",
   "execution_count": 64,
   "id": "e2e0bf6a-6067-40ad-962b-ac8a387abfda",
   "metadata": {},
   "outputs": [
    {
     "name": "stdin",
     "output_type": "stream",
     "text": [
      "Enter the number : 5\n"
     ]
    },
    {
     "name": "stdout",
     "output_type": "stream",
     "text": [
      " 1 X 5 = 5\n",
      " 2 X 5 = 10\n",
      " 3 X 5 = 15\n",
      " 4 X 5 = 20\n",
      " 5 X 5 = 25\n",
      " 6 X 5 = 30\n",
      " 7 X 5 = 35\n",
      " 8 X 5 = 40\n",
      " 9 X 5 = 45\n",
      " 10 X 5 = 50\n"
     ]
    }
   ],
   "source": [
    "num1= int(input(\"Enter the number :\"))\n",
    "for i in range(1,11):\n",
    "    print (f\" {i} X {num1} = {i*num1}\")"
   ]
  },
  {
   "cell_type": "markdown",
   "id": "e97d649a-39a7-4a94-a6b9-0e469640bdd7",
   "metadata": {},
   "source": [
    "#  chech if a  number is even or odd"
   ]
  },
  {
   "cell_type": "code",
   "execution_count": 68,
   "id": "95a4b096-52b5-420f-bff7-942fbf6c5e29",
   "metadata": {},
   "outputs": [
    {
     "name": "stdin",
     "output_type": "stream",
     "text": [
      "Enter the number : 6\n"
     ]
    }
   ],
   "source": [
    "num1= int(input(\"Enter the number :\"))\n",
    " "
   ]
  },
  {
   "cell_type": "code",
   "execution_count": 70,
   "id": "a7d82901-62ee-4e9d-bccf-39904639b2c7",
   "metadata": {},
   "outputs": [
    {
     "name": "stdout",
     "output_type": "stream",
     "text": [
      "even\n"
     ]
    }
   ],
   "source": [
    "if num1 % 2 == 0:\n",
    "     print(\"even\")\n",
    "else:\n",
    "    print (\"odd\")"
   ]
  },
  {
   "cell_type": "markdown",
   "id": "4dfa7e97-80a6-4af1-acf9-2c09e828d018",
   "metadata": {},
   "source": [
    "#  check if a Number is Positive, Negative, or Zero"
   ]
  },
  {
   "cell_type": "code",
   "execution_count": 77,
   "id": "b85fe7e5-30a0-4477-bc2d-d70edd68642d",
   "metadata": {},
   "outputs": [
    {
     "name": "stdin",
     "output_type": "stream",
     "text": [
      "Enter the number : 6\n"
     ]
    }
   ],
   "source": [
    "num1= int(input(\"Enter the number :\"))"
   ]
  },
  {
   "cell_type": "code",
   "execution_count": 79,
   "id": "5e584a82-7495-402d-a627-69b5ce2e5ac6",
   "metadata": {},
   "outputs": [
    {
     "name": "stdin",
     "output_type": "stream",
     "text": [
      "Enter the number : 7\n"
     ]
    },
    {
     "name": "stdout",
     "output_type": "stream",
     "text": [
      "Positive\n"
     ]
    }
   ],
   "source": [
    "num1= int(input(\"Enter the number :\"))\n",
    "if num1 >  0:\n",
    "     print(\"Positive\")\n",
    "elif num1 <0:\n",
    "    print(\"Negitive\")\n",
    "else :\n",
    "    print(\"Zero\")\n",
    "    "
   ]
  },
  {
   "cell_type": "markdown",
   "id": "9dcf274d-789e-4aa2-9d89-10f987396a9b",
   "metadata": {},
   "source": [
    "#  simple calculator program"
   ]
  },
  {
   "cell_type": "code",
   "execution_count": 81,
   "id": "98c5df53-e46b-4b78-9201-2bce4ff92c79",
   "metadata": {},
   "outputs": [
    {
     "name": "stdin",
     "output_type": "stream",
     "text": [
      "Enter the number1 : 5\n",
      "Enter the operatoe : +\n",
      "Enter the number2 : 1\n"
     ]
    },
    {
     "name": "stdout",
     "output_type": "stream",
     "text": [
      "6\n"
     ]
    }
   ],
   "source": [
    "num1= int(input(\"Enter the number1 :\"))\n",
    "oper= input(\"Enter the operatoe :\")\n",
    "num2= int(input(\"Enter the number2 :\"))\n",
    "if oper == \"+\":\n",
    "    result= num1+num2\n",
    "elif oper == \"-\":\n",
    "     result= num1-num2\n",
    "elif oper == \"*\":\n",
    "      result= num1*num2\n",
    "else :\n",
    "     result= num1/num2\n",
    "print(f\"{result}\")\n",
    "\n",
    "\n",
    "\n",
    "    \n",
    "    \n",
    "    \n"
   ]
  },
  {
   "cell_type": "code",
   "execution_count": null,
   "id": "512c9f7d-922b-4d40-9234-d3ad1cf07b16",
   "metadata": {},
   "outputs": [],
   "source": []
  }
 ],
 "metadata": {
  "kernelspec": {
   "display_name": "Python [conda env:base] *",
   "language": "python",
   "name": "conda-base-py"
  },
  "language_info": {
   "codemirror_mode": {
    "name": "ipython",
    "version": 3
   },
   "file_extension": ".py",
   "mimetype": "text/x-python",
   "name": "python",
   "nbconvert_exporter": "python",
   "pygments_lexer": "ipython3",
   "version": "3.12.7"
  }
 },
 "nbformat": 4,
 "nbformat_minor": 5
}
