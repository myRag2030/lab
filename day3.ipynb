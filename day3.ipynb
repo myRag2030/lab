{
 "cells": [
  {
   "cell_type": "markdown",
   "id": "76e55e24-007a-4b6c-ba8f-3f8190c167fe",
   "metadata": {},
   "source": [
    "#  Writing Files"
   ]
  },
  {
   "cell_type": "code",
   "execution_count": 2,
   "id": "e35495e0-9893-46b0-bac4-b49b8878c01b",
   "metadata": {},
   "outputs": [],
   "source": [
    "with open('output.txt','w') as file:\n",
    "    file.write(\"Hello,World!\")"
   ]
  },
  {
   "cell_type": "markdown",
   "id": "f3bfcc11-060c-4bbc-ab28-98eb75b6266f",
   "metadata": {},
   "source": [
    "# Writelines()"
   ]
  },
  {
   "cell_type": "code",
   "execution_count": 8,
   "id": "589682d1-f88b-4393-98b9-97fd0d086c23",
   "metadata": {},
   "outputs": [],
   "source": [
    "lines = [\"raghad\\n\",\"rahaf\\n\",\"Tshouq\\n\"]\n",
    "with open('output.txt','w') as file:\n",
    "    file.writelines(lines)"
   ]
  },
  {
   "cell_type": "code",
   "execution_count": 10,
   "id": "4fd444b2-e29d-4c9d-baea-85f3e3cc434d",
   "metadata": {},
   "outputs": [],
   "source": [
    "with open('output.txt','a') as file:\n",
    "    file.write(\"Appending a new line.\")"
   ]
  },
  {
   "cell_type": "markdown",
   "id": "b0a692f5-baf6-48e4-9c6d-2468cc35198b",
   "metadata": {},
   "source": [
    "# Reading Files"
   ]
  },
  {
   "cell_type": "code",
   "execution_count": 15,
   "id": "6360ea9e-a473-43e5-986c-ea0cef6d835e",
   "metadata": {},
   "outputs": [
    {
     "name": "stdout",
     "output_type": "stream",
     "text": [
      "raghad\n",
      "rahaf\n",
      "Tshouq\n",
      "Appending a new line.\n"
     ]
    },
    {
     "data": {
      "text/plain": [
       "str"
      ]
     },
     "execution_count": 15,
     "metadata": {},
     "output_type": "execute_result"
    }
   ],
   "source": [
    "with open('output.txt','r') as file:\n",
    "    content = file.read()\n",
    "    print(content)\n",
    "type(content)    "
   ]
  },
  {
   "cell_type": "markdown",
   "id": "ff88f353-4265-47ac-8e78-140026b2cd89",
   "metadata": {},
   "source": [
    "# Readlines()"
   ]
  },
  {
   "cell_type": "code",
   "execution_count": 15,
   "id": "6c288818-e708-4ea4-be71-0f1e3385bf83",
   "metadata": {},
   "outputs": [
    {
     "name": "stdout",
     "output_type": "stream",
     "text": [
      "raghad\n",
      "rahaf\n",
      "Tshouq\n",
      "Appending a new line.\n"
     ]
    },
    {
     "data": {
      "text/plain": [
       "list"
      ]
     },
     "execution_count": 15,
     "metadata": {},
     "output_type": "execute_result"
    }
   ],
   "source": [
    "with open('output.txt','r') as file:\n",
    "    lines = file.readlines()\n",
    "    for line in lines:\n",
    "        print(line.strip())\n",
    "type(lines)        "
   ]
  },
  {
   "cell_type": "markdown",
   "id": "54f6c4ae-1752-43f8-b3b8-d8e57340790c",
   "metadata": {},
   "source": [
    "# rb - wb "
   ]
  },
  {
   "cell_type": "code",
   "execution_count": 17,
   "id": "b2f1020f-7b27-4f13-a162-cfd0e8f7aec4",
   "metadata": {},
   "outputs": [],
   "source": [
    "with open('images.jpg', 'rb') as file:\n",
    "    binary_data = file.read()\n",
    "with open('copy_images.jpg', 'wb') as new_file:\n",
    "    new_file.write(binary_data)\n"
   ]
  },
  {
   "cell_type": "code",
   "execution_count": null,
   "id": "7feb5ec6-0e58-4b76-9c7e-9224b1f843f1",
   "metadata": {},
   "outputs": [],
   "source": []
  }
 ],
 "metadata": {
  "kernelspec": {
   "display_name": "Python [conda env:base] *",
   "language": "python",
   "name": "conda-base-py"
  },
  "language_info": {
   "codemirror_mode": {
    "name": "ipython",
    "version": 3
   },
   "file_extension": ".py",
   "mimetype": "text/x-python",
   "name": "python",
   "nbconvert_exporter": "python",
   "pygments_lexer": "ipython3",
   "version": "3.12.7"
  }
 },
 "nbformat": 4,
 "nbformat_minor": 5
}
