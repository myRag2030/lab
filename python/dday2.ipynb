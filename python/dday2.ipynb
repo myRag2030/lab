{
 "cells": [
  {
   "cell_type": "markdown",
   "id": "32488eef-8519-405b-9dfa-886440af3671",
   "metadata": {},
   "source": [
    "# Creating a LIST and performing basic operations\n"
   ]
  },
  {
   "cell_type": "code",
   "execution_count": 3,
   "id": "bb3da7f0-cd39-42a5-9717-ba0cd92cfb77",
   "metadata": {},
   "outputs": [],
   "source": [
    "my_list = [1,2,3,4]"
   ]
  },
  {
   "cell_type": "code",
   "execution_count": 5,
   "id": "74099779-63e0-4230-89a8-795accacc5e6",
   "metadata": {},
   "outputs": [
    {
     "data": {
      "text/plain": [
       "1"
      ]
     },
     "execution_count": 5,
     "metadata": {},
     "output_type": "execute_result"
    }
   ],
   "source": [
    "first_item = my_list[0]  \n",
    "first_item"
   ]
  },
  {
   "cell_type": "code",
   "execution_count": 7,
   "id": "1184f5cd-1bed-409b-9f0c-cbdff7945296",
   "metadata": {},
   "outputs": [
    {
     "data": {
      "text/plain": [
       "[10, 2, 3, 4]"
      ]
     },
     "execution_count": 7,
     "metadata": {},
     "output_type": "execute_result"
    }
   ],
   "source": [
    "my_list[0] = 10\n",
    "my_list"
   ]
  },
  {
   "cell_type": "code",
   "execution_count": 9,
   "id": "0d101bad-f742-4f9d-a94e-79a9312a00ab",
   "metadata": {},
   "outputs": [
    {
     "data": {
      "text/plain": [
       "[10, 2, 3, 4, 5]"
      ]
     },
     "execution_count": 9,
     "metadata": {},
     "output_type": "execute_result"
    }
   ],
   "source": [
    "my_list.append(5)\n",
    "my_list"
   ]
  },
  {
   "cell_type": "code",
   "execution_count": 11,
   "id": "21a99a16-c122-4f7a-932b-4ec72582da3b",
   "metadata": {},
   "outputs": [
    {
     "data": {
      "text/plain": [
       "[10, 2, 4, 5]"
      ]
     },
     "execution_count": 11,
     "metadata": {},
     "output_type": "execute_result"
    }
   ],
   "source": [
    "my_list.remove(3)\n",
    "my_list"
   ]
  },
  {
   "cell_type": "code",
   "execution_count": 13,
   "id": "f1172c30-d687-4e9f-bf31-f171691df98a",
   "metadata": {},
   "outputs": [
    {
     "data": {
      "text/plain": [
       "[2, 4]"
      ]
     },
     "execution_count": 13,
     "metadata": {},
     "output_type": "execute_result"
    }
   ],
   "source": [
    "sliced_list = my_list[1:3]\n",
    "sliced_list"
   ]
  },
  {
   "cell_type": "code",
   "execution_count": 15,
   "id": "6931bf73-0751-4dec-8a93-803b2401c8cd",
   "metadata": {},
   "outputs": [],
   "source": [
    "ragd_list = [1, 2, 3, 4, 5, 6, 7, 8, 9, 10]"
   ]
  },
  {
   "cell_type": "code",
   "execution_count": 17,
   "id": "4826b4df-09dc-4e23-abe3-720fccfe7728",
   "metadata": {},
   "outputs": [
    {
     "data": {
      "text/plain": [
       "[1, 2, 3, 4, 5, 6, 7, 8, 9, 10]"
      ]
     },
     "execution_count": 17,
     "metadata": {},
     "output_type": "execute_result"
    }
   ],
   "source": [
    "first_item = ragd_list[0]\n",
    "ragd_list"
   ]
  },
  {
   "cell_type": "code",
   "execution_count": 19,
   "id": "b78b07e4-77c5-47b6-8e2c-fbffd2d08762",
   "metadata": {},
   "outputs": [
    {
     "data": {
      "text/plain": [
       "[1, 2, 3, 4, 5, 6, 7, 8, 9, 10, 15]"
      ]
     },
     "execution_count": 19,
     "metadata": {},
     "output_type": "execute_result"
    }
   ],
   "source": [
    "ragd_list.append(15)\n",
    "ragd_list"
   ]
  },
  {
   "cell_type": "code",
   "execution_count": 21,
   "id": "2b32748d-4a2c-4961-85dc-11f0ddca4cb1",
   "metadata": {},
   "outputs": [
    {
     "data": {
      "text/plain": [
       "[1, 20, 3, 4, 5, 6, 7, 8, 9, 10, 15]"
      ]
     },
     "execution_count": 21,
     "metadata": {},
     "output_type": "execute_result"
    }
   ],
   "source": [
    "ragd_list[1]=20\n",
    "ragd_list"
   ]
  },
  {
   "cell_type": "code",
   "execution_count": 23,
   "id": "86b9972c-1066-4589-9a3f-63f0b19ca4f1",
   "metadata": {},
   "outputs": [
    {
     "name": "stdout",
     "output_type": "stream",
     "text": [
      "ragd_list: [3, 4, 5, 6, 7, 8, 9, 10, 15]\n"
     ]
    }
   ],
   "source": [
    "print(\"ragd_list:\", ragd_list[2:])"
   ]
  },
  {
   "cell_type": "markdown",
   "id": "08ebcc6b-7cc8-4268-aeeb-00ff4e944583",
   "metadata": {},
   "source": [
    "# Creating a Dictionary and performing basic operations"
   ]
  },
  {
   "cell_type": "code",
   "execution_count": 29,
   "id": "bf40664d-507a-4a55-a422-5b581f0c962b",
   "metadata": {},
   "outputs": [
    {
     "data": {
      "text/plain": [
       "{'name': 'Alice', 'Age': 25}"
      ]
     },
     "execution_count": 29,
     "metadata": {},
     "output_type": "execute_result"
    }
   ],
   "source": [
    "my_dict = {\"name\" : \"Alice\",\"Age\":25}\n",
    "my_dict"
   ]
  },
  {
   "cell_type": "code",
   "execution_count": 31,
   "id": "a33c3120-3582-4f31-a3d4-9dddcb609051",
   "metadata": {},
   "outputs": [
    {
     "data": {
      "text/plain": [
       "{'name': 'Alice', 'Age': 25}"
      ]
     },
     "execution_count": 31,
     "metadata": {},
     "output_type": "execute_result"
    }
   ],
   "source": [
    "name = my_dict[\"name\"]\n",
    "my_dict"
   ]
  },
  {
   "cell_type": "code",
   "execution_count": 33,
   "id": "053c2321-7206-4dca-89ba-bdd282ca6d96",
   "metadata": {},
   "outputs": [
    {
     "data": {
      "text/plain": [
       "{'name': 'Alice', 'Age': 25, 'city': 'New York'}"
      ]
     },
     "execution_count": 33,
     "metadata": {},
     "output_type": "execute_result"
    }
   ],
   "source": [
    "my_dict[\"city\"] = \"New York\"\n",
    "my_dict"
   ]
  },
  {
   "cell_type": "code",
   "execution_count": 35,
   "id": "96feec38-d313-447a-9dba-be92124fc14e",
   "metadata": {},
   "outputs": [
    {
     "data": {
      "text/plain": [
       "{'name': 'Alice', 'Age': 30, 'city': 'New York'}"
      ]
     },
     "execution_count": 35,
     "metadata": {},
     "output_type": "execute_result"
    }
   ],
   "source": [
    "my_dict[\"Age\"]=30\n",
    "my_dict"
   ]
  },
  {
   "cell_type": "code",
   "execution_count": 37,
   "id": "3f1fe59e-cf1f-4ff8-bfa4-cb0afa319fb5",
   "metadata": {},
   "outputs": [
    {
     "data": {
      "text/plain": [
       "dict_values(['Alice', 30, 'New York'])"
      ]
     },
     "execution_count": 37,
     "metadata": {},
     "output_type": "execute_result"
    }
   ],
   "source": [
    "my_dict.values()"
   ]
  },
  {
   "cell_type": "code",
   "execution_count": 39,
   "id": "ea74431e-e2c0-4ee7-88f8-68147810b11e",
   "metadata": {},
   "outputs": [
    {
     "data": {
      "text/plain": [
       "dict_keys(['name', 'Age', 'city'])"
      ]
     },
     "execution_count": 39,
     "metadata": {},
     "output_type": "execute_result"
    }
   ],
   "source": [
    "my_dict.keys()"
   ]
  },
  {
   "cell_type": "markdown",
   "id": "214b5a25-0e8f-4d5e-991f-a66b08876c0f",
   "metadata": {},
   "source": [
    "my_dict.items()"
   ]
  },
  {
   "cell_type": "code",
   "execution_count": 43,
   "id": "29c9e109-e03d-453f-bb96-6fdc1649990f",
   "metadata": {},
   "outputs": [
    {
     "data": {
      "text/plain": [
       "{'Age': 30, 'city': 'New York'}"
      ]
     },
     "execution_count": 43,
     "metadata": {},
     "output_type": "execute_result"
    }
   ],
   "source": [
    "del my_dict[\"name\"]\n",
    "my_dict"
   ]
  },
  {
   "cell_type": "markdown",
   "id": "2b8e7b3c-5fb2-4ce1-a642-4bce2677c545",
   "metadata": {},
   "source": [
    "# dic-myExample"
   ]
  },
  {
   "cell_type": "code",
   "execution_count": 46,
   "id": "553373f2-674e-43af-85ae-047689bb50c9",
   "metadata": {},
   "outputs": [
    {
     "data": {
      "text/plain": [
       "{'name': 'raghad', 'Age': 21, 'City': 'Tabuk'}"
      ]
     },
     "execution_count": 46,
     "metadata": {},
     "output_type": "execute_result"
    }
   ],
   "source": [
    "ragd_dic = {\"name\": \"raghad\",\"Age\":21, \"City\":\"Tabuk\"}\n",
    "ragd_dic"
   ]
  },
  {
   "cell_type": "code",
   "execution_count": 48,
   "id": "21b2807d-9d5a-4ac6-981e-274d1c47a0fd",
   "metadata": {},
   "outputs": [
    {
     "data": {
      "text/plain": [
       "{'name': 'raghad', 'Age': 30, 'City': 'Tabuk'}"
      ]
     },
     "execution_count": 48,
     "metadata": {},
     "output_type": "execute_result"
    }
   ],
   "source": [
    "ragd_dic[\"Age\"]=30\n",
    "ragd_dic"
   ]
  },
  {
   "cell_type": "code",
   "execution_count": 50,
   "id": "d71356cf-b9d0-4650-a19f-566dc9ca130e",
   "metadata": {},
   "outputs": [],
   "source": [
    "ragd_dic[\"Email\"]=\"raghad@gmail.com\""
   ]
  },
  {
   "cell_type": "code",
   "execution_count": 52,
   "id": "d2eba0ec-feb9-4fdb-8507-f6e80d144d3f",
   "metadata": {},
   "outputs": [
    {
     "data": {
      "text/plain": [
       "{'name': 'raghad', 'Age': 30, 'City': 'Tabuk', 'Email': 'raghad@gmail.com'}"
      ]
     },
     "execution_count": 52,
     "metadata": {},
     "output_type": "execute_result"
    }
   ],
   "source": [
    "ragd_dic"
   ]
  },
  {
   "cell_type": "code",
   "execution_count": 54,
   "id": "4dc8c526-026f-48f3-8e8a-beda8b684753",
   "metadata": {},
   "outputs": [
    {
     "data": {
      "text/plain": [
       "{'name': 'raghad', 'Age': 30, 'Email': 'raghad@gmail.com'}"
      ]
     },
     "execution_count": 54,
     "metadata": {},
     "output_type": "execute_result"
    }
   ],
   "source": [
    "del ragd_dic[\"City\"]\n",
    "ragd_dic"
   ]
  },
  {
   "cell_type": "code",
   "execution_count": 56,
   "id": "44a194ed-843c-461d-9b6a-f880f40ec8cf",
   "metadata": {},
   "outputs": [
    {
     "data": {
      "text/plain": [
       "dict_values(['raghad', 30, 'raghad@gmail.com'])"
      ]
     },
     "execution_count": 56,
     "metadata": {},
     "output_type": "execute_result"
    }
   ],
   "source": [
    "ragd_dic.values()"
   ]
  },
  {
   "cell_type": "code",
   "execution_count": 58,
   "id": "953a450e-fc48-4442-8867-ddacea7d3acd",
   "metadata": {},
   "outputs": [
    {
     "data": {
      "text/plain": [
       "dict_keys(['name', 'Age', 'Email'])"
      ]
     },
     "execution_count": 58,
     "metadata": {},
     "output_type": "execute_result"
    }
   ],
   "source": [
    "ragd_dic.keys()"
   ]
  },
  {
   "cell_type": "code",
   "execution_count": 60,
   "id": "e0e2dc51-ac40-4f25-a662-b372a2f993eb",
   "metadata": {},
   "outputs": [
    {
     "data": {
      "text/plain": [
       "dict_items([('name', 'raghad'), ('Age', 30), ('Email', 'raghad@gmail.com')])"
      ]
     },
     "execution_count": 60,
     "metadata": {},
     "output_type": "execute_result"
    }
   ],
   "source": [
    "ragd_dic.items()"
   ]
  },
  {
   "cell_type": "code",
   "execution_count": 62,
   "id": "9ef3e83c-fb7c-4af4-9dcd-8150bfc13e43",
   "metadata": {},
   "outputs": [],
   "source": [
    "my_dic2={ \"name\":[\"raghad\",\"rahaf\",\"Eman\"]}"
   ]
  },
  {
   "cell_type": "code",
   "execution_count": 64,
   "id": "f177b74f-d8de-435a-b8c7-8403400932f1",
   "metadata": {},
   "outputs": [
    {
     "data": {
      "text/plain": [
       "{'name': ['raghad', 'rahaf', 'Eman']}"
      ]
     },
     "execution_count": 64,
     "metadata": {},
     "output_type": "execute_result"
    }
   ],
   "source": [
    "my_dic2"
   ]
  },
  {
   "cell_type": "code",
   "execution_count": 66,
   "id": "a5938292-6074-4964-bf2b-9aa44b66fc43",
   "metadata": {},
   "outputs": [],
   "source": [
    "my_dic2[\"Ages\"]= 21,21,20"
   ]
  },
  {
   "cell_type": "code",
   "execution_count": 68,
   "id": "4448efee-2b5a-4f5b-85de-b815c5c2362b",
   "metadata": {},
   "outputs": [
    {
     "data": {
      "text/plain": [
       "{'name': ['raghad', 'rahaf', 'Eman'], 'Ages': (21, 21, 20)}"
      ]
     },
     "execution_count": 68,
     "metadata": {},
     "output_type": "execute_result"
    }
   ],
   "source": [
    "my_dic2"
   ]
  },
  {
   "cell_type": "markdown",
   "id": "a6e8d61a-48c3-42b3-98e1-59491b53eca1",
   "metadata": {},
   "source": [
    "# Creat a tuple"
   ]
  },
  {
   "cell_type": "code",
   "execution_count": 71,
   "id": "61dcde05-703b-4a2a-b850-e433cc260038",
   "metadata": {},
   "outputs": [
    {
     "data": {
      "text/plain": [
       "(1, 2, 3, 'hello', 4.5)"
      ]
     },
     "execution_count": 71,
     "metadata": {},
     "output_type": "execute_result"
    }
   ],
   "source": [
    "my_tuple=(1,2,3,\"hello\",4.5)\n",
    "my_tuple"
   ]
  },
  {
   "cell_type": "code",
   "execution_count": 73,
   "id": "5d8f684b-0d68-416d-afc8-bd90ed324a4f",
   "metadata": {},
   "outputs": [],
   "source": [
    "my_l=list(my_tuple)"
   ]
  },
  {
   "cell_type": "code",
   "execution_count": 75,
   "id": "247037d5-be73-4d3b-b941-9db91b347286",
   "metadata": {},
   "outputs": [
    {
     "data": {
      "text/plain": [
       "[1, 2, 3, 'hello', 4.5]"
      ]
     },
     "execution_count": 75,
     "metadata": {},
     "output_type": "execute_result"
    }
   ],
   "source": [
    "my_l"
   ]
  },
  {
   "cell_type": "code",
   "execution_count": 77,
   "id": "fe3ed0bd-030e-44dc-b451-fbbe1672e068",
   "metadata": {},
   "outputs": [],
   "source": [
    "my_l=tuple(my_tuple)"
   ]
  },
  {
   "cell_type": "code",
   "execution_count": 79,
   "id": "5f96e65b-cd25-48c5-b970-8d791e9c5cf3",
   "metadata": {},
   "outputs": [
    {
     "data": {
      "text/plain": [
       "(1, 2, 3, 'hello', 4.5)"
      ]
     },
     "execution_count": 79,
     "metadata": {},
     "output_type": "execute_result"
    }
   ],
   "source": [
    "my_tuple"
   ]
  },
  {
   "cell_type": "code",
   "execution_count": 81,
   "id": "24b837d7-d99c-4640-ab1b-bd03f5c66662",
   "metadata": {},
   "outputs": [
    {
     "name": "stdout",
     "output_type": "stream",
     "text": [
      "3\n",
      "4.5\n"
     ]
    },
    {
     "data": {
      "text/plain": [
       "(2, 3, 'hello')"
      ]
     },
     "execution_count": 81,
     "metadata": {},
     "output_type": "execute_result"
    }
   ],
   "source": [
    "print(my_tuple[2])\n",
    "print(my_tuple[-1])\n",
    "sliced_tuple =my_tuple[1:4]\n",
    "sliced_tuple"
   ]
  },
  {
   "cell_type": "markdown",
   "id": "e944d88b-6e2b-492d-a8f0-3e0a603b6d48",
   "metadata": {},
   "source": [
    "# Creating a Set and performing basic operations¶"
   ]
  },
  {
   "cell_type": "code",
   "execution_count": 84,
   "id": "9483389d-2ad9-46fc-9e12-1b7f6f636d31",
   "metadata": {},
   "outputs": [],
   "source": [
    "my_set = {1,2,3,4}"
   ]
  },
  {
   "cell_type": "code",
   "execution_count": 86,
   "id": "f919393b-e9ac-46c3-bdca-7d086fd60e6f",
   "metadata": {},
   "outputs": [
    {
     "data": {
      "text/plain": [
       "{1, 2, 3, 4, 5}"
      ]
     },
     "execution_count": 86,
     "metadata": {},
     "output_type": "execute_result"
    }
   ],
   "source": [
    "my_set.add(5)\n",
    "my_set"
   ]
  },
  {
   "cell_type": "code",
   "execution_count": 88,
   "id": "2f45be89-0cff-4c59-ac6d-e1e95ea75db8",
   "metadata": {},
   "outputs": [
    {
     "data": {
      "text/plain": [
       "{1, 2, 3, 4, 5, 6, 7}"
      ]
     },
     "execution_count": 88,
     "metadata": {},
     "output_type": "execute_result"
    }
   ],
   "source": [
    "my_set.update([6,7])\n",
    "my_set"
   ]
  },
  {
   "cell_type": "code",
   "execution_count": 90,
   "id": "017ba8ae-c870-4eb8-97ce-7fbb0e71a620",
   "metadata": {},
   "outputs": [
    {
     "data": {
      "text/plain": [
       "{1, 2, 4, 5, 6, 7}"
      ]
     },
     "execution_count": 90,
     "metadata": {},
     "output_type": "execute_result"
    }
   ],
   "source": [
    "my_set.remove(3)\n",
    "my_set"
   ]
  },
  {
   "cell_type": "code",
   "execution_count": 91,
   "id": "47296d7b-8cb1-456f-b849-c6250469d3a4",
   "metadata": {},
   "outputs": [
    {
     "data": {
      "text/plain": [
       "{1, 2, 5, 6, 7}"
      ]
     },
     "execution_count": 91,
     "metadata": {},
     "output_type": "execute_result"
    }
   ],
   "source": [
    "my_set.discard(4)\n",
    "my_set"
   ]
  },
  {
   "cell_type": "code",
   "execution_count": 144,
   "id": "5711e35f-7f14-4cb7-998a-3425a81320b4",
   "metadata": {},
   "outputs": [],
   "source": [
    "set1 = {1,2,3}\n",
    "set2 = {3,4,5}"
   ]
  },
  {
   "cell_type": "code",
   "execution_count": 146,
   "id": "f7b72970-293f-4474-b9d2-df6744fbec72",
   "metadata": {},
   "outputs": [
    {
     "data": {
      "text/plain": [
       "{1, 2, 3, 4, 5}"
      ]
     },
     "execution_count": 146,
     "metadata": {},
     "output_type": "execute_result"
    }
   ],
   "source": [
    "union_set = set1 | set2\n",
    "union_set"
   ]
  },
  {
   "cell_type": "code",
   "execution_count": 148,
   "id": "b72a363a-ab23-4919-927e-28557298ac4f",
   "metadata": {},
   "outputs": [
    {
     "data": {
      "text/plain": [
       "{3}"
      ]
     },
     "execution_count": 148,
     "metadata": {},
     "output_type": "execute_result"
    }
   ],
   "source": [
    "intersection_set = set1 & set2 \n",
    "intersection_set"
   ]
  },
  {
   "cell_type": "code",
   "execution_count": 150,
   "id": "dc798b31-bee9-43ab-99fa-7ecae23d0176",
   "metadata": {},
   "outputs": [
    {
     "data": {
      "text/plain": [
       "{1, 2}"
      ]
     },
     "execution_count": 150,
     "metadata": {},
     "output_type": "execute_result"
    }
   ],
   "source": [
    "difference_set = set1 - set2\n",
    "difference_set"
   ]
  },
  {
   "cell_type": "code",
   "execution_count": 152,
   "id": "6dc4bd5c-30d4-449d-a9c7-bd50251d67c1",
   "metadata": {},
   "outputs": [
    {
     "data": {
      "text/plain": [
       "{4, 5}"
      ]
     },
     "execution_count": 152,
     "metadata": {},
     "output_type": "execute_result"
    }
   ],
   "source": [
    "difference_set = set2 - set1\n",
    "difference_set"
   ]
  },
  {
   "cell_type": "code",
   "execution_count": 132,
   "id": "2345d21b-3537-4db4-873e-373dcd0f1589",
   "metadata": {},
   "outputs": [
    {
     "data": {
      "text/plain": [
       "{1, 2, 3}"
      ]
     },
     "execution_count": 132,
     "metadata": {},
     "output_type": "execute_result"
    }
   ],
   "source": [
    "my_set2={1,True,2,3}\n",
    "my_set2"
   ]
  },
  {
   "cell_type": "code",
   "execution_count": 134,
   "id": "dd3806ac-a2b4-4f44-a031-72faf3645922",
   "metadata": {},
   "outputs": [
    {
     "data": {
      "text/plain": [
       "{True, 2, 3}"
      ]
     },
     "execution_count": 134,
     "metadata": {},
     "output_type": "execute_result"
    }
   ],
   "source": [
    "my_set2={True,1,2,3}\n",
    "my_set2"
   ]
  },
  {
   "cell_type": "code",
   "execution_count": 136,
   "id": "25fc38fd-0c65-4f51-870b-100401466c4c",
   "metadata": {},
   "outputs": [
    {
     "data": {
      "text/plain": [
       "{2, 3}"
      ]
     },
     "execution_count": 136,
     "metadata": {},
     "output_type": "execute_result"
    }
   ],
   "source": [
    "my_set2.remove(True)\n",
    "my_set2"
   ]
  },
  {
   "cell_type": "code",
   "execution_count": 142,
   "id": "b69fa33a-dc2c-4c43-af30-282d4d4c58df",
   "metadata": {},
   "outputs": [
    {
     "data": {
      "text/plain": [
       "{3}"
      ]
     },
     "execution_count": 142,
     "metadata": {},
     "output_type": "execute_result"
    }
   ],
   "source": [
    "my_set2.discard(2)\n",
    "my_set2"
   ]
  },
  {
   "cell_type": "markdown",
   "id": "d9a698e3-c74d-4b6f-9af4-3dbb2a2d1a4f",
   "metadata": {},
   "source": [
    "# Create a simple program to sum of numbers in a list ."
   ]
  },
  {
   "cell_type": "code",
   "execution_count": 93,
   "id": "437a4973-6862-4666-8c87-25614b1fe526",
   "metadata": {},
   "outputs": [
    {
     "data": {
      "text/plain": [
       "15"
      ]
     },
     "execution_count": 93,
     "metadata": {},
     "output_type": "execute_result"
    }
   ],
   "source": [
    "numbers = [1, 2, 3, 4, 5]\n",
    "sum(numbers)"
   ]
  },
  {
   "cell_type": "code",
   "execution_count": 95,
   "id": "60cc8c8b-ee2a-410f-b18b-7c4091677197",
   "metadata": {},
   "outputs": [
    {
     "name": "stdout",
     "output_type": "stream",
     "text": [
      "15\n"
     ]
    }
   ],
   "source": [
    "s=0\n",
    "for i in numbers:\n",
    "    s=i+s\n",
    "print(s)    "
   ]
  },
  {
   "cell_type": "markdown",
   "id": "e9c89e1f-1a55-4c1d-815c-0782d2e33161",
   "metadata": {},
   "source": [
    "# Create a simple program to find maximum and minimum number in a list."
   ]
  },
  {
   "cell_type": "code",
   "execution_count": 98,
   "id": "d6c3149c-9126-42aa-ab6f-d0edf3268682",
   "metadata": {},
   "outputs": [
    {
     "data": {
      "text/plain": [
       "5"
      ]
     },
     "execution_count": 98,
     "metadata": {},
     "output_type": "execute_result"
    }
   ],
   "source": [
    "max(numbers)"
   ]
  },
  {
   "cell_type": "code",
   "execution_count": 100,
   "id": "e85497f0-3392-40f3-baad-d26717176a2d",
   "metadata": {},
   "outputs": [
    {
     "data": {
      "text/plain": [
       "1"
      ]
     },
     "execution_count": 100,
     "metadata": {},
     "output_type": "execute_result"
    }
   ],
   "source": [
    "min(numbers)"
   ]
  },
  {
   "cell_type": "markdown",
   "id": "773112e7-0fc3-4c3d-86d8-1923fbe3ab35",
   "metadata": {},
   "source": [
    "# .Create a simple program to Count the occurrences of each number in the list"
   ]
  },
  {
   "cell_type": "code",
   "execution_count": 105,
   "id": "36acd9e9-f1fa-4497-aab2-871804125049",
   "metadata": {},
   "outputs": [],
   "source": [
    "list2=[1,1,1,1,1,1]"
   ]
  },
  {
   "cell_type": "code",
   "execution_count": 107,
   "id": "55838ee6-e155-4c0a-8f0b-68cdeabee709",
   "metadata": {},
   "outputs": [
    {
     "data": {
      "text/plain": [
       "6"
      ]
     },
     "execution_count": 107,
     "metadata": {},
     "output_type": "execute_result"
    }
   ],
   "source": [
    "list2.count(1)"
   ]
  },
  {
   "cell_type": "markdown",
   "id": "059c7d19-5c84-4b63-b0f7-1e27a86f7673",
   "metadata": {},
   "source": [
    "# .Create a simple program to print the even numbers in a list"
   ]
  },
  {
   "cell_type": "code",
   "execution_count": 237,
   "id": "78df289a-f0ac-4816-834e-07ac893f3c33",
   "metadata": {},
   "outputs": [
    {
     "name": "stdout",
     "output_type": "stream",
     "text": [
      "10\n",
      "12\n",
      "14\n",
      "16\n"
     ]
    }
   ],
   "source": [
    "num = [10, 11, 12, 13, 14, 15, 16, 17]\n",
    "for i in num:\n",
    "       if i % 2 == 0:\n",
    "           print(i)"
   ]
  },
  {
   "cell_type": "code",
   "execution_count": null,
   "id": "13de3975-b7b5-4315-bf51-57b1139f2d49",
   "metadata": {},
   "outputs": [],
   "source": []
  }
 ],
 "metadata": {
  "kernelspec": {
   "display_name": "Python [conda env:base] *",
   "language": "python",
   "name": "conda-base-py"
  },
  "language_info": {
   "codemirror_mode": {
    "name": "ipython",
    "version": 3
   },
   "file_extension": ".py",
   "mimetype": "text/x-python",
   "name": "python",
   "nbconvert_exporter": "python",
   "pygments_lexer": "ipython3",
   "version": "3.12.7"
  }
 },
 "nbformat": 4,
 "nbformat_minor": 5
}
